{
 "cells": [
  {
   "cell_type": "code",
   "execution_count": 1,
   "metadata": {
    "ExecuteTime": {
     "end_time": "2021-06-16T08:49:10.344491Z",
     "start_time": "2021-06-16T08:48:57.408881Z"
    }
   },
   "outputs": [],
   "source": [
    "%matplotlib inline \n",
    "%config InlineBackend.figure_format = 'retina'\n",
    "import numpy as np \n",
    "import pandas as pd\n",
    "import networkx as nx\n",
    "import matplotlib.pyplot as plt\n",
    "import time \n",
    "from tqdm import tqdm\n",
    "import seaborn as sns\n",
    "\n",
    "import sys \n",
    "from path_overlap import * "
   ]
  },
  {
   "cell_type": "markdown",
   "metadata": {},
   "source": [
    "# optimize for control betas "
   ]
  },
  {
   "cell_type": "code",
   "execution_count": 2,
   "metadata": {
    "ExecuteTime": {
     "end_time": "2021-06-16T08:49:10.357843Z",
     "start_time": "2021-06-16T08:49:10.346786Z"
    }
   },
   "outputs": [],
   "source": [
    "def res_matrix(A, num_layers, betas, S):\n",
    "    diagS = np.zeros((len(S), len(S)))\n",
    "    for i in range(len(S)):\n",
    "        if S[i]==1:\n",
    "            diagS[i,i] = 1;\n",
    "    Ss, diagSs = {}, {}\n",
    "    Ss[0] = S;\n",
    "    diagSs[0] = diagS\n",
    "    for i in range(num_layers-1):\n",
    "        diagSs[i+1] = np.dot(np.dot(diagSs[i], A), diagS) \n",
    "        for l in range(len(S)):\n",
    "            w = np.sum(diagSs[i+1][:,l]) \n",
    "            if w!=0:\n",
    "                diagSs[i+1][:,l] = diagSs[i+1][:,l] / (betas[l] + np.sum(diagSs[i+1][:,l]));\n",
    "    return diagSs;\n",
    "\n",
    "\n",
    "def objective_fun(x):\n",
    "    test_res = compute_single_task_interference(A, task, num_layers, x)\n",
    "    single_task_prob = test_res[task[0], task[-1]]\n",
    "    if single_task_prob!=0:\n",
    "        return -np.log(single_task_prob)\n",
    "    else:\n",
    "        return 0;\n",
    "    \n",
    "def compute_single_task_interference(A, t, nl, b):\n",
    "    activated_nodes = np.zeros(A.shape[0],)\n",
    "    for s in t:\n",
    "        activated_nodes[s] = 1\n",
    "    iterated_matrices = res_matrix(A, nl, b, activated_nodes)\n",
    "    return iterated_matrices[nl-1];\n",
    "\n",
    "def objective_fun_multitask(x):\n",
    "\n",
    "    test_res = compute_multitask_interference(A, tasks, num_layers, x)\n",
    "    compound_prob = 1;\n",
    "    for task in tasks:\n",
    "        compound_prob *= test_res[task[0], task[-1]]\n",
    "    if compound_prob!=0:\n",
    "        return -np.log(compound_prob)\n",
    "    else:\n",
    "        return 0;\n",
    "\n",
    "def compute_multitask_interference(A, tl, nl, b):\n",
    "    activated_nodes = np.zeros(A.shape[0],)\n",
    "    for t in tl:\n",
    "        for s in t:\n",
    "            activated_nodes[s] = 1\n",
    "    iterated_matrices = res_matrix(A, nl, b, activated_nodes)\n",
    "    return iterated_matrices[nl-1];\n",
    "\n",
    "def activated_nodes(A, tl):\n",
    "    activated_nodes = np.zeros(A.shape[0],)\n",
    "    for t in tl:\n",
    "        for s in t:\n",
    "            activated_nodes[s] = 1\n",
    "    return activated_nodes;"
   ]
  },
  {
   "cell_type": "code",
   "execution_count": 3,
   "metadata": {
    "ExecuteTime": {
     "end_time": "2021-06-16T08:49:10.364271Z",
     "start_time": "2021-06-16T08:49:10.361178Z"
    }
   },
   "outputs": [],
   "source": [
    "def delta_cost(mp):\n",
    "    return [(x[0]-x[1])/x[0] for x in mp];\n",
    "\n",
    "def delta_beta_ratio(x, betas0):\n",
    "    return np.mean((betas0 - x) / betas0);"
   ]
  },
  {
   "cell_type": "code",
   "execution_count": 4,
   "metadata": {
    "ExecuteTime": {
     "end_time": "2021-06-16T08:49:10.374980Z",
     "start_time": "2021-06-16T08:49:10.368904Z"
    }
   },
   "outputs": [],
   "source": [
    "def are_structural_interfering(p1, p2):\n",
    "    if set(p1[1:]).intersection(set(p2[1:])):\n",
    "        return True;\n",
    "    else:\n",
    "        return False;\n",
    "    \n",
    "def multitask_subgraph(g, paths):\n",
    "    nodes = []\n",
    "    for t in paths:\n",
    "        nodes.extend(t);\n",
    "    nodes = list(set(nodes))\n",
    "    return nx.subgraph(g, nodes);\n",
    "\n",
    "def are_functionally_interfering(g, paths): #beware it works only for two tasks\n",
    "    if are_structural_interfering(*paths):\n",
    "        return False;\n",
    "    ms = multitask_subgraph(nx.Graph(g), paths)\n",
    "    if nx.number_connected_components(ms) == len(paths):\n",
    "        return False;\n",
    "    else:\n",
    "        return True;"
   ]
  },
  {
   "cell_type": "code",
   "execution_count": 5,
   "metadata": {
    "ExecuteTime": {
     "end_time": "2021-06-16T08:49:10.380268Z",
     "start_time": "2021-06-16T08:49:10.377405Z"
    }
   },
   "outputs": [],
   "source": [
    "import numpy as np\n",
    "from scipy.optimize import minimize, basinhopping"
   ]
  },
  {
   "cell_type": "markdown",
   "metadata": {
    "ExecuteTime": {
     "end_time": "2021-04-06T16:07:49.513685Z",
     "start_time": "2021-04-06T16:07:49.511141Z"
    }
   },
   "source": [
    "# Only functional interference \n"
   ]
  },
  {
   "cell_type": "code",
   "execution_count": 6,
   "metadata": {
    "ExecuteTime": {
     "end_time": "2021-06-16T08:49:10.389970Z",
     "start_time": "2021-06-16T08:49:10.382505Z"
    }
   },
   "outputs": [],
   "source": [
    "def weighted_task_path_interference(g, p1, p2):\n",
    "    if len(set(p1[1:]).intersection(set(p2[1:])))>0:\n",
    "        return True;\n",
    "    count = 0;\n",
    "    for l in range(len(p1)-1):\n",
    "        if p2[l+1] in list(g.successors(p1[l])) or p1[l+1] in list(g.successors(p2[l])):\n",
    "        \tcount+=1;\n",
    "    return count;\n",
    "def raw_delta_cost(mp, normalized=False):\n",
    "    if normalized==False:\n",
    "        return [(x[0]-x[1]) for x in mp];\n",
    "    else:\n",
    "        return [(x[0]-x[1])/x[0]  if x[0]>0 else 0 for x in mp];\n",
    "\n",
    "def raw_delta_beta(x, betas0, func=np.mean, normalized=False):\n",
    "    if normalized==True:\n",
    "        return func((betas0 - x) / betas0);\n",
    "    else:\n",
    "        return func((betas0 - x));\n",
    "    \n",
    "def boostrap_lr(x, y, iterations=500):\n",
    "    X, Y = np.array(x), np.array(y)\n",
    "    coeff, inter = [], []\n",
    "    for i in range(0, iterations):\n",
    "        sample_index = np.random.choice(range(0, len(y)), len(y))\n",
    "\n",
    "        X_samples = X[sample_index]\n",
    "        y_samples = y[sample_index]    \n",
    "\n",
    "        lr = LinearRegression()\n",
    "        lr.fit(X_samples, y_samples)\n",
    "        coeff.append(lr.coef_)\n",
    "        inter.append(lr.intercept_)\n",
    "    return coeff, inter;\n"
   ]
  },
  {
   "cell_type": "code",
   "execution_count": 7,
   "metadata": {
    "ExecuteTime": {
     "end_time": "2021-06-16T08:55:16.463906Z",
     "start_time": "2021-06-16T08:55:16.456550Z"
    }
   },
   "outputs": [],
   "source": [
    "\n",
    "def single_task_in_multitask_prob(t, sg, betas_t, nus, weight_func=np.exp, attr='capacity', verbose=False):\n",
    "    prob = 1;\n",
    "    w  = nx.get_edge_attributes(sg, attr)\n",
    "    for i, n in enumerate(t[1:]):\n",
    "        # probability of propagating the right path\n",
    "        in_n = list(sg.predecessors(n));\n",
    "        predecessor_probs = []\n",
    "        Z = weight_func(betas_t[n]) + np.sum([weight_func(w[(x,n)]**nus[n]) for x in in_n])\n",
    "        prob *= (weight_func(w[(t[i],n)]**nus[n]) / Z);\n",
    "    return prob;\n",
    "\n",
    "    \n",
    "def compute_multitask_interference(gg, tl, nl, b, nu):\n",
    "    probs = []\n",
    "    for t in tl:\n",
    "        probs.append(single_task_in_multitask_prob(t, gg, b, nu, weight_func=np.exp, attr='weight'))\n",
    "    return probs;\n",
    "\n",
    "def objective_fun_multitask(x):\n",
    "    n = int(len(x)/2)\n",
    "    probs = compute_multitask_interference(sg, new_tasks, num_layers, x[:n], x[n:])\n",
    "    compound_prob = 1;\n",
    "    for prob in probs:\n",
    "        compound_prob *= prob;\n",
    "    if compound_prob!=0:\n",
    "        return -np.log(compound_prob)\n",
    "    else:\n",
    "        return 0;\n",
    "    "
   ]
  },
  {
   "cell_type": "code",
   "execution_count": 8,
   "metadata": {
    "ExecuteTime": {
     "end_time": "2021-06-16T08:55:16.642557Z",
     "start_time": "2021-06-16T08:55:16.638282Z"
    }
   },
   "outputs": [],
   "source": [
    "def subgraph_relabel(gg, ts):\n",
    "    nn = []\n",
    "    for t in ts:\n",
    "        nn.extend(t)\n",
    "        nn = list(set(nn))\n",
    "    sg = nx.subgraph(gg,  nn);\n",
    "    rel_dict = dict(zip(sg.nodes(), list(range(sg.number_of_nodes()))))\n",
    "    sg = nx.relabel_nodes(sg, rel_dict);\n",
    "    new_ts = []\n",
    "    for t in ts:\n",
    "        new_ts.append([rel_dict[x] for x in t]);\n",
    "    return sg, new_ts;\n"
   ]
  },
  {
   "cell_type": "code",
   "execution_count": 9,
   "metadata": {
    "ExecuteTime": {
     "end_time": "2021-06-16T08:55:17.046306Z",
     "start_time": "2021-06-16T08:55:17.037436Z"
    }
   },
   "outputs": [],
   "source": [
    "def new_strong_weak_graph(num_layers, num_dense, num_sparse, weak_density, strong_mu, strong_std, weak_mu, weak_std, frac=.8):\n",
    "    tot_units = num_dense + num_sparse;\n",
    "    G = multipartite_network(num_layers, num_dense, num_sparse, 0.0)\n",
    "    rel_dict = dict(zip(G.nodes(), range(G.number_of_nodes())))\n",
    "    inv_rel_dict = dict(zip(range(G.number_of_nodes()), G.nodes()))\n",
    "    \n",
    "    G  = nx.relabel_nodes(G, rel_dict)\n",
    "    strong_w = np.random.normal(strong_mu, strong_std, G.number_of_edges())\n",
    "    nx.set_edge_attributes(G, dict(zip(G.edges(), strong_w)), 'weight')\n",
    "    strong_paths = []\n",
    "    for s in range(tot_units):\n",
    "        for t in range((num_layers-1)*tot_units, (num_layers)*tot_units):\n",
    "#             print(s,t, list(nx.all_simple_paths(G,s,t)))\n",
    "            strong_paths.extend(nx.all_simple_paths(G,s,t))\n",
    "#     print((strong_paths))\n",
    "    \n",
    "    Gr = multipartite_network(num_layers, num_dense+num_sparse, 0,  weak_density)\n",
    "    Gr = rewire_multipartite_network(Gr, tot_units, 1, rewire_iters=int(frac * Gr.number_of_edges()))\n",
    "    Gr  = nx.relabel_nodes(Gr, rel_dict)\n",
    "    weak_mu, weak_std = 1, .2\n",
    "    weak_w = np.random.normal(weak_mu, weak_std, Gr.number_of_edges())\n",
    "    weak_w_dict = dict(zip(Gr.edges(), weak_w))\n",
    "    for edge in Gr.edges():\n",
    "        if not G.has_edge(edge[0], edge[1]):\n",
    "            G.add_edge(edge[0], edge[1], weight=weak_w_dict[edge])\n",
    "    del Gr;\n",
    "    weak_paths = []\n",
    "    for s in range(tot_units):\n",
    "        for t in range((num_layers-1)*tot_units, (num_layers)*tot_units):\n",
    "            weak_paths.extend(nx.all_simple_paths(G,s,t))\n",
    "#     print(len(weak_paths))\n",
    "    for path in strong_paths:\n",
    "        if path in weak_paths:\n",
    "            weak_paths.remove(path)\n",
    "    return G, strong_paths, weak_paths;\n"
   ]
  },
  {
   "cell_type": "code",
   "execution_count": 10,
   "metadata": {
    "ExecuteTime": {
     "end_time": "2021-06-16T09:01:16.946953Z",
     "start_time": "2021-06-16T08:55:17.659309Z"
    }
   },
   "outputs": [
    {
     "data": {
      "application/vnd.jupyter.widget-view+json": {
       "model_id": "11e56176c33546dfa615961dba73d716",
       "version_major": 2,
       "version_minor": 0
      },
      "text/plain": [
       "  0%|          | 0/6 [00:00<?, ?it/s]"
      ]
     },
     "metadata": {},
     "output_type": "display_data"
    },
    {
     "data": {
      "application/vnd.jupyter.widget-view+json": {
       "model_id": "3482407179954529bcca272839117528",
       "version_major": 2,
       "version_minor": 0
      },
      "text/plain": [
       "  0%|          | 0/71 [00:00<?, ?it/s]"
      ]
     },
     "metadata": {},
     "output_type": "display_data"
    },
    {
     "data": {
      "application/vnd.jupyter.widget-view+json": {
       "model_id": "f6fb742f554941a2b19aae686934b714",
       "version_major": 2,
       "version_minor": 0
      },
      "text/plain": [
       "  0%|          | 0/74 [00:00<?, ?it/s]"
      ]
     },
     "metadata": {},
     "output_type": "display_data"
    },
    {
     "data": {
      "application/vnd.jupyter.widget-view+json": {
       "model_id": "d413651a5f7146658ec5dc81e9fbe9ac",
       "version_major": 2,
       "version_minor": 0
      },
      "text/plain": [
       "  0%|          | 0/69 [00:00<?, ?it/s]"
      ]
     },
     "metadata": {},
     "output_type": "display_data"
    },
    {
     "data": {
      "application/vnd.jupyter.widget-view+json": {
       "model_id": "bf34478c53a040d985ca10464bd44cb8",
       "version_major": 2,
       "version_minor": 0
      },
      "text/plain": [
       "  0%|          | 0/64 [00:00<?, ?it/s]"
      ]
     },
     "metadata": {},
     "output_type": "display_data"
    },
    {
     "data": {
      "application/vnd.jupyter.widget-view+json": {
       "model_id": "eca71f9eee07437fb31b2fbccd1db29c",
       "version_major": 2,
       "version_minor": 0
      },
      "text/plain": [
       "  0%|          | 0/80 [00:00<?, ?it/s]"
      ]
     },
     "metadata": {},
     "output_type": "display_data"
    },
    {
     "data": {
      "application/vnd.jupyter.widget-view+json": {
       "model_id": "81aeefaaa915458cb5150336cabe3781",
       "version_major": 2,
       "version_minor": 0
      },
      "text/plain": [
       "  0%|          | 0/70 [00:00<?, ?it/s]"
      ]
     },
     "metadata": {},
     "output_type": "display_data"
    },
    {
     "data": {
      "application/vnd.jupyter.widget-view+json": {
       "model_id": "e5790cc12df840f68131238ef74a0de1",
       "version_major": 2,
       "version_minor": 0
      },
      "text/plain": [
       "  0%|          | 0/65 [00:00<?, ?it/s]"
      ]
     },
     "metadata": {},
     "output_type": "display_data"
    },
    {
     "data": {
      "application/vnd.jupyter.widget-view+json": {
       "model_id": "08f9a04910fd4cb58625ebf6d2a06468",
       "version_major": 2,
       "version_minor": 0
      },
      "text/plain": [
       "  0%|          | 0/73 [00:00<?, ?it/s]"
      ]
     },
     "metadata": {},
     "output_type": "display_data"
    },
    {
     "data": {
      "application/vnd.jupyter.widget-view+json": {
       "model_id": "4d55d009ac1741d0b784d8cf5da3ca9e",
       "version_major": 2,
       "version_minor": 0
      },
      "text/plain": [
       "  0%|          | 0/71 [00:00<?, ?it/s]"
      ]
     },
     "metadata": {},
     "output_type": "display_data"
    },
    {
     "data": {
      "application/vnd.jupyter.widget-view+json": {
       "model_id": "31b7b53065d442e8b5020ff5808786e8",
       "version_major": 2,
       "version_minor": 0
      },
      "text/plain": [
       "  0%|          | 0/62 [00:00<?, ?it/s]"
      ]
     },
     "metadata": {},
     "output_type": "display_data"
    },
    {
     "data": {
      "application/vnd.jupyter.widget-view+json": {
       "model_id": "c60470145c574ff8a89672ce50c1c2a2",
       "version_major": 2,
       "version_minor": 0
      },
      "text/plain": [
       "  0%|          | 0/66 [00:00<?, ?it/s]"
      ]
     },
     "metadata": {},
     "output_type": "display_data"
    },
    {
     "data": {
      "application/vnd.jupyter.widget-view+json": {
       "model_id": "48089ea1841641e4b297003600e3cb37",
       "version_major": 2,
       "version_minor": 0
      },
      "text/plain": [
       "  0%|          | 0/60 [00:00<?, ?it/s]"
      ]
     },
     "metadata": {},
     "output_type": "display_data"
    }
   ],
   "source": [
    "\n",
    "beta, nu0,  control_frac = 1.49, 1, 0.1\n",
    "num_layers_range = range(3,9)\n",
    "beta_bounds_i = (1, 1.5)\n",
    "nu_bounds_i  = (0, 2)\n",
    "\n",
    "sw_layer_multitask_performance, ww_layer_multitask_performance = {}, {}\n",
    "\n",
    "max_single_tasks = 100;\n",
    "max_num_loops, max_num_combos = 100, 200\n",
    "\n",
    "num_dense, num_sparse = 6, 9\n",
    "tot_units = num_dense + num_sparse\n",
    "# density = 1\n",
    "\n",
    "args = weak_density, strong_mu, strong_std, weak_mu, weak_std = .3, 5, 1, 1, .2\n",
    "\n",
    "for num_layers in tqdm(num_layers_range):\n",
    "    \n",
    "    G, strong_paths, weak_paths = new_strong_weak_graph(num_layers, num_dense, num_sparse,*args)# weak_density, strong_mu, strong_std, weak_mu, weak_std)    nx.set_edge_attributes(rel_rew_MPG, dict(zip(rel_rew_MPG.edges(), np.random.rand(rel_rew_MPG.number_of_edges()))), 'weight')\n",
    "\n",
    "    strong_weak_fun_interference = []\n",
    "    count = 0\n",
    "    while len(strong_weak_fun_interference)<max_num_combos and count<max_num_loops:\n",
    "        count+=1\n",
    "        el1, el2 = np.random.choice(range(len(strong_paths))), np.random.choice(range(len(weak_paths)))\n",
    "        double_task = [strong_paths[el1], weak_paths[el2]]\n",
    "        if are_functionally_interfering(G, double_task): \n",
    "                strong_weak_fun_interference.append(double_task)\n",
    "\n",
    "\n",
    "    sw_layer_multitask_performance[num_layers] = []\n",
    "\n",
    "    for tasks in tqdm(strong_weak_fun_interference):\n",
    "        task_res = []\n",
    "        g = G.copy()\n",
    "        sg, new_tasks = subgraph_relabel(g, tasks);\n",
    "        beta_vec = [beta] * sg.number_of_nodes()\n",
    "        nu_vec = [nu0] * sg.number_of_nodes()\n",
    "        \n",
    "        # automatic execution \n",
    "        probs = compute_multitask_interference(sg, list(new_tasks), num_layers, beta_vec, nu_vec) #to be fixed but oh well\n",
    "        compound_prob = 1;\n",
    "        for prob in probs:\n",
    "            compound_prob *= prob;\n",
    "        task_res.append(-np.log(compound_prob))\n",
    "        \n",
    "        \n",
    "        # controlled case\n",
    "        x = beta_vec.copy()\n",
    "        bnds = [beta_bounds_i]*len(beta_vec)\n",
    "        x.extend(nu_vec)\n",
    "        bnds.extend([nu_bounds_i]*len(nu_vec))\n",
    "        bnds = tuple(bnds)        \n",
    "        from scipy.optimize import NonlinearConstraint\n",
    "        sol = minimize(objective_fun_multitask, x, method = 'SLSQP', bounds = bnds)#, constraints=nlc)#SLSQP\n",
    "        probs = compute_multitask_interference(sg, list(new_tasks), num_layers, sol.x[:sg.number_of_nodes()],\n",
    "                                               sol.x[sg.number_of_nodes():])\n",
    "        compound_prob = 1;\n",
    "        for prob in probs:\n",
    "            compound_prob *= prob\n",
    "        task_res.append(-np.log(compound_prob))\n",
    "        task_res.append(sol.x)\n",
    "        task_res.append(weighted_task_path_interference(G, tasks[0], tasks[1]))\n",
    "        sw_layer_multitask_performance[num_layers].append(task_res)\n",
    "    \n",
    "    \n",
    "    weak_weak_fun_interference = []\n",
    "    count = 0\n",
    "    while len(weak_weak_fun_interference)<max_num_combos and count<max_num_loops:\n",
    "        count+=1\n",
    "        el1, el2 = np.random.choice(range(len(weak_paths))), np.random.choice(range(len(weak_paths)))\n",
    "        double_task = [weak_paths[el1], weak_paths[el2]]\n",
    "        if are_functionally_interfering(G, double_task): \n",
    "                weak_weak_fun_interference.append(double_task)\n",
    "\n",
    "\n",
    "    ww_layer_multitask_performance[num_layers] = []\n",
    "\n",
    "    for tasks in tqdm(weak_weak_fun_interference):\n",
    "        task_res = []\n",
    "        g = G.copy()\n",
    "        sg, new_tasks = subgraph_relabel(g, tasks);\n",
    "        beta_vec = [np.exp(beta)] * sg.number_of_nodes()\n",
    "        nu_vec = [nu0] * sg.number_of_nodes()\n",
    "        \n",
    "        # automatic execution \n",
    "        probs = compute_multitask_interference(sg, list(new_tasks), num_layers, beta_vec, nu_vec) #to be fixed but oh well\n",
    "        compound_prob = 1;\n",
    "        for prob in probs:\n",
    "            compound_prob *= prob;\n",
    "        task_res.append(-np.log(compound_prob))\n",
    "        \n",
    "        \n",
    "        # controlled case\n",
    "\n",
    "        x = beta_vec.copy()\n",
    "        bnds = [beta_bounds_i]*len(beta_vec)\n",
    "        x.extend(nu_vec)\n",
    "        bnds.extend([nu_bounds_i]*len(nu_vec))\n",
    "        bnds = tuple(bnds)\n",
    "        from scipy.optimize import NonlinearConstraint\n",
    "        sol = minimize(objective_fun_multitask, x, method = 'SLSQP', bounds = bnds)#, constraints=nlc)#SLSQP\n",
    "        probs = compute_multitask_interference(sg, list(new_tasks), num_layers, sol.x[:sg.number_of_nodes()],\n",
    "                                               sol.x[sg.number_of_nodes():])\n",
    "        compound_prob = 1;\n",
    "        for prob in probs:\n",
    "            compound_prob *= prob\n",
    "        task_res.append(-np.log(compound_prob))\n",
    "        task_res.append(sol.x)\n",
    "        task_res.append(weighted_task_path_interference(G, tasks[0], tasks[1]))\n",
    "        ww_layer_multitask_performance[num_layers].append(task_res)\n",
    "    \n",
    "    \n",
    "    \n",
    "        "
   ]
  },
  {
   "cell_type": "code",
   "execution_count": 11,
   "metadata": {
    "ExecuteTime": {
     "end_time": "2021-06-16T09:02:12.375946Z",
     "start_time": "2021-06-16T09:02:11.591688Z"
    }
   },
   "outputs": [],
   "source": [
    "from sklearn.linear_model import LinearRegression"
   ]
  },
  {
   "cell_type": "code",
   "execution_count": 12,
   "metadata": {
    "ExecuteTime": {
     "end_time": "2021-06-16T09:02:12.383395Z",
     "start_time": "2021-06-16T09:02:12.377715Z"
    }
   },
   "outputs": [],
   "source": [
    "def task_delta_cost(tr, norm=False):\n",
    "    if norm==False:\n",
    "        return tr[0]-tr[1];\n",
    "    else:\n",
    "        return (tr[0]-tr[1])/tr[0]\n",
    "\n",
    "ww_delta_costs, ww_delta_costs_norm, sw_delta_costs, sw_delta_costs_norm = {}, {}, {}, {}\n",
    "for num_layers in num_layers_range:\n",
    "    ww_delta_costs[num_layers] = [task_delta_cost(x) for x in ww_layer_multitask_performance[num_layers]]\n",
    "    ww_delta_costs_norm[num_layers] = [task_delta_cost(x, True) for x in ww_layer_multitask_performance[num_layers]]\n",
    "    sw_delta_costs[num_layers] = [task_delta_cost(x) for x in sw_layer_multitask_performance[num_layers]]\n",
    "    sw_delta_costs_norm[num_layers] = [task_delta_cost(x, True) for x in sw_layer_multitask_performance[num_layers]]\n"
   ]
  },
  {
   "cell_type": "code",
   "execution_count": 13,
   "metadata": {
    "ExecuteTime": {
     "end_time": "2021-06-16T09:02:13.031571Z",
     "start_time": "2021-06-16T09:02:13.026186Z"
    }
   },
   "outputs": [],
   "source": [
    "def task_delta_cost(tr, norm=False):\n",
    "    if norm==False:\n",
    "        return tr[0]-tr[1];\n",
    "    else:\n",
    "        return (tr[0]-tr[1])/tr[0]\n",
    "\n",
    "sw_automatic_cost, ww_automatic_cost = {}, {}\n",
    "sw_controlled_cost, ww_controlled_cost = {}, {}\n",
    "for num_layers in num_layers_range:\n",
    "    sw_automatic_cost[num_layers] = [x[0] for x in sw_layer_multitask_performance[num_layers]]\n",
    "    ww_automatic_cost[num_layers] = [x[0] for x in ww_layer_multitask_performance[num_layers]]\n",
    "    sw_controlled_cost[num_layers] = [x[1] for x in sw_layer_multitask_performance[num_layers]]\n",
    "    ww_controlled_cost[num_layers] = [x[1] for x in ww_layer_multitask_performance[num_layers]]\n"
   ]
  },
  {
   "cell_type": "code",
   "execution_count": 15,
   "metadata": {},
   "outputs": [
    {
     "data": {
      "image/png": "[encoded data removed]",
      "text/plain": [
       "<Figure size 1152x288 with 3 Axes>"
      ]
     },
     "metadata": {
      "image/png": {
       "height": 278,
       "width": 1143
      },
      "needs_background": "light"
     },
     "output_type": "display_data"
    }
   ],
   "source": [
    "fig = plt.figure(figsize=(16, 4))\n",
    "ax = plt.subplot(131)\n",
    "width = .2\n",
    "\n",
    "sw_double_boxes = {}\n",
    "\n",
    "sw_double_boxes['automatic'] = ax.boxplot(sw_automatic_cost.values(),\n",
    "                                       positions=np.array(num_layers_range), widths=width,\n",
    "                                       notch=True,\n",
    "                                       vert=True,  # vertical box alignment\n",
    "                                       patch_artist=True)\n",
    "\n",
    "sw_double_boxes['controlled'] = ax.boxplot(sw_controlled_cost.values(),\n",
    "                                       positions=np.array(num_layers_range)+width, widths=width,\n",
    "                                       notch=True,\n",
    "                                       vert=True,  # vertical box alignment\n",
    "                                       patch_artist=True)\n",
    "plt.xticks(num_layers_range, num_layers_range, fontsize=15);\n",
    "plt.xlabel(r'Depth $L$', fontsize=20)\n",
    "plt.ylabel(r'$\\Psi$, $\\Psi^*$', fontsize=20)\n",
    "plt.yticks(fontsize=15)\n",
    "colors = ['navy', 'lightblue', 'orange']\n",
    "for i, name in enumerate(sw_double_boxes.keys()):\n",
    "    for j, patch in enumerate(sw_double_boxes[name]['boxes']):\n",
    "        patch.set_facecolor(colors[i])\n",
    "        if i<2:\n",
    "            patch.set_alpha(1 - 0.9*j/len(num_layers_range))\n",
    "        else:\n",
    "            patch.set_alpha(.8)\n",
    "plt.title('Strong-Weak paths', fontsize=15)\n",
    "plt.ylim(0,50)\n",
    "\n",
    "ax = plt.subplot(132)\n",
    "ww_double_boxes = {}\n",
    "ww_double_boxes['automatic'] = ax.boxplot(ww_automatic_cost.values(),\n",
    "                                       positions=np.array(num_layers_range), widths=width,\n",
    "                                       notch=True,\n",
    "                                       vert=True,  # vertical box alignment\n",
    "                                       patch_artist=True)\n",
    "\n",
    "ww_double_boxes['controlled'] = ax.boxplot(ww_controlled_cost.values(),\n",
    "                                       positions=np.array(num_layers_range)+width, widths=width,\n",
    "                                       notch=True,\n",
    "                                       vert=True,  # vertical box alignment\n",
    "                                       patch_artist=True)\n",
    "plt.xticks(num_layers_range, num_layers_range, fontsize=15);\n",
    "plt.xlabel(r'Depth $L$', fontsize=20)\n",
    "plt.ylabel(r'$\\Psi$, $\\Psi^*$', fontsize=20)\n",
    "plt.yticks(fontsize=15)\n",
    "colors = ['red', 'orange']\n",
    "for i, name in enumerate(ww_double_boxes.keys()):\n",
    "    for j, patch in enumerate(ww_double_boxes[name]['boxes']):\n",
    "        patch.set_facecolor(colors[i])\n",
    "        if i<2:\n",
    "            patch.set_alpha(1 - 0.9*j/len(num_layers_range))\n",
    "        else:\n",
    "            patch.set_alpha(.8)\n",
    "\n",
    "plt.title('Weak-Weak paths', fontsize=15)\n",
    "plt.ylim(0,50)\n",
    "\n",
    "ax = plt.subplot(133)\n",
    "norm_double_boxes = {}\n",
    "norm_double_boxes['sw'] = ax.boxplot(sw_delta_costs_norm.values(),\n",
    "                                       positions=np.array(num_layers_range), widths=width,\n",
    "                                       notch=True,\n",
    "                                       vert=True,  # vertical box alignment\n",
    "                                       patch_artist=True)\n",
    "\n",
    "\n",
    "plt.xticks(num_layers_range, num_layers_range, fontsize=15);\n",
    "plt.xlabel(r'Depth $L$', fontsize=20)\n",
    "\n",
    "\n",
    "# ax = plt.subplot(122)\n",
    "norm_double_boxes['ww'] = ax.boxplot(ww_delta_costs_norm.values(),\n",
    "                                       positions=np.array(num_layers_range)+width, widths=width,\n",
    "                                       notch=True,\n",
    "                                       vert=True,  # vertical box alignment\n",
    "                                       patch_artist=True)\n",
    "plt.xticks(num_layers_range, num_layers_range, fontsize=15);\n",
    "plt.ylabel(r'$\\delta \\Psi$', fontsize=20)\n",
    "\n",
    "colors = ['navy', 'red', 'orange']\n",
    "for i, name in enumerate(norm_double_boxes.keys()):\n",
    "    for j, patch in enumerate(norm_double_boxes[name]['boxes']):\n",
    "        patch.set_facecolor(colors[i])\n",
    "        if i<2:\n",
    "            patch.set_alpha(1 - 0.8*j/len(num_layers_range))\n",
    "        else:\n",
    "            patch.set_alpha(.8)\n",
    "#     plt.text(3, 0.1+0.1*i, name, fontsize=20, color=colors[i])\n",
    "\n",
    "plt.ylim(0,1)\n",
    "plt.yticks(fontsize=15)\n",
    "\n",
    "plt.title('Normalized cost reduction', fontsize=15)\n",
    "plt.tight_layout()"
   ]
  },
  {
   "cell_type": "code",
   "execution_count": 16,
   "metadata": {},
   "outputs": [
    {
     "name": "stdout",
     "output_type": "stream",
     "text": [
      "3 Ttest_indResult(statistic=28.382805123980937, pvalue=6.1441415911773786e-43)\n",
      "4 Ttest_indResult(statistic=33.10698545063517, pvalue=1.2569528125509242e-51)\n",
      "5 Ttest_indResult(statistic=55.65018368392389, pvalue=5.547590435534767e-79)\n",
      "6 Ttest_indResult(statistic=59.60532050668866, pvalue=1.5345991695615563e-68)\n",
      "7 Ttest_indResult(statistic=70.03612403960253, pvalue=2.3976582591479634e-88)\n",
      "8 Ttest_indResult(statistic=70.98499607860236, pvalue=2.0278316540003264e-76)\n",
      "\n",
      "\n",
      "3 LeveneResult(statistic=62.038756795878506, pvalue=7.703751699766395e-13)\n",
      "4 LeveneResult(statistic=27.14496980307869, pvalue=7.140844813911039e-07)\n",
      "5 LeveneResult(statistic=37.18720573744452, pvalue=8.912238356514972e-09)\n",
      "6 LeveneResult(statistic=39.0075453378941, pvalue=5.0437074878855815e-09)\n",
      "7 LeveneResult(statistic=19.97607097853995, pvalue=1.679490454143604e-05)\n",
      "8 LeveneResult(statistic=19.090770782758973, pvalue=2.605500459764064e-05)\n"
     ]
    }
   ],
   "source": [
    "from scipy.stats import ks_2samp, ttest_ind, kruskal, levene\n",
    "\n",
    "for num_layers in num_layers_range:\n",
    "    print(num_layers, ttest_ind(ww_delta_costs_norm[num_layers], sw_delta_costs_norm[num_layers], \n",
    "                                equal_var=False, alternative='greater'))\n",
    "print('\\n')\n",
    "\n",
    "for num_layers in num_layers_range:\n",
    "    print(num_layers, levene(ww_delta_costs_norm[num_layers], sw_delta_costs_norm[num_layers]))"
   ]
  },
  {
   "cell_type": "markdown",
   "metadata": {},
   "source": [
    "# Control policies"
   ]
  },
  {
   "cell_type": "code",
   "execution_count": 17,
   "metadata": {
    "ExecuteTime": {
     "end_time": "2021-06-07T13:34:18.441551Z",
     "start_time": "2021-06-07T13:34:18.433804Z"
    }
   },
   "outputs": [],
   "source": [
    "quant = 'nu'\n",
    "\n",
    "if quant == 'beta':\n",
    "    m, M = 0, np.diff(beta_bounds_i)[0]\n",
    "if quant=='nu':\n",
    "    m, M = nu_bounds_i\n",
    "    \n",
    "\n",
    "sw_control_policies = {}\n",
    "ww_control_policies = {}\n",
    "for num_layers in num_layers_range:\n",
    "    sw_control_policies[num_layers] = []\n",
    "    ww_control_policies[num_layers] = []\n",
    "    for x in sw_layer_multitask_performance[num_layers]:\n",
    "        N = int(len(x[-2])/2)\n",
    "        if quant=='beta':\n",
    "            sw_control_policies[num_layers].extend(beta-x[-2][:N]);\n",
    "        elif quant=='nu':\n",
    "            sw_control_policies[num_layers].extend(x[-2][N:]);\n",
    "    for x in ww_layer_multitask_performance[num_layers]:\n",
    "        if quant=='beta':\n",
    "            ww_control_policies[num_layers].extend(beta - x[-2][:N]);\n",
    "        elif quant=='nu':\n",
    "            ww_control_policies[num_layers].extend(x[-2][N:]);"
   ]
  },
  {
   "cell_type": "code",
   "execution_count": 18,
   "metadata": {},
   "outputs": [],
   "source": [
    "def clean_numerical_errors(l, m, M):\n",
    "    return [x for x in l if x>=m and x<=M]"
   ]
  },
  {
   "cell_type": "code",
   "execution_count": 21,
   "metadata": {},
   "outputs": [
    {
     "data": {
      "image/png": "[encoded data removed]",
      "text/plain": [
       "<Figure size 1440x288 with 6 Axes>"
      ]
     },
     "metadata": {
      "image/png": {
       "height": 279,
       "width": 1431
      },
      "needs_background": "light"
     },
     "output_type": "display_data"
    }
   ],
   "source": [
    "import seaborn as sns\n",
    "lw = 2\n",
    "alpha_opac = .7\n",
    "fig = plt.figure(figsize=(20,4))\n",
    "\n",
    "for i, k in enumerate(sw_control_policies.keys()):\n",
    "    plt.subplot(1, 6, i+1)\n",
    "    plt.hist(clean_numerical_errors(ww_control_policies[k], m, M), bins=20, density=True, label='WW',\n",
    "             alpha=alpha_opac, linewidth=lw, histtype='step')\n",
    "    plt.hist(clean_numerical_errors(sw_control_policies[k], m, M), bins=20, density=True, label='SW', histtype='step', \n",
    "             alpha=alpha_opac, linewidth=lw)\n",
    "    plt.title('num layers = '+str(k), fontsize=20)\n",
    "    if i==0:\n",
    "        plt.legend(fontsize=15, loc=2)\n",
    "    plt.xticks(fontsize=15)\n",
    "    plt.yticks(fontsize=15)\n",
    "    if quant=='beta':\n",
    "        plt.xlabel(r'$\\Delta\\beta^*$', fontsize=20)\n",
    "    if quant=='nu':\n",
    "        plt.xlabel(r'$\\nu^*$', fontsize=20)\n",
    "\n",
    "plt.tight_layout()"
   ]
  }
 ],
 "metadata": {
  "kernelspec": {
   "display_name": "stenv",
   "language": "python",
   "name": "stenv"
  },
  "language_info": {
   "codemirror_mode": {
    "name": "ipython",
    "version": 3
   },
   "file_extension": ".py",
   "mimetype": "text/x-python",
   "name": "python",
   "nbconvert_exporter": "python",
   "pygments_lexer": "ipython3",
   "version": "3.9.18"
  },
  "toc": {
   "base_numbering": 1,
   "nav_menu": {},
   "number_sections": true,
   "sideBar": true,
   "skip_h1_title": false,
   "title_cell": "Table of Contents",
   "title_sidebar": "Contents",
   "toc_cell": false,
   "toc_position": {},
   "toc_section_display": true,
   "toc_window_display": false
  }
 },
 "nbformat": 4,
 "nbformat_minor": 4
}
